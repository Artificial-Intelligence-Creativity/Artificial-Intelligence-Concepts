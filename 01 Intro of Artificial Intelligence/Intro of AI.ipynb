{
 "cells": [
  {
   "cell_type": "markdown",
   "metadata": {},
   "source": [
    "---\n",
    "<h1 align='center' style='color:blue'>Artificial Intelligence</h1>\n",
    "\n",
    "---"
   ]
  },
  {
   "cell_type": "markdown",
   "metadata": {},
   "source": [
    "<h1 style=\"color:red\"> What is Artificial Intelligence?</h1>"
   ]
  },
  {
   "cell_type": "markdown",
   "metadata": {},
   "source": [
    "### AI is the discipline of the computer sciences that focuses on the creation of intelligent computer programs. The aim of creating such programs is to emulate human behavior in situations where humans either can’t go or can’t stay for prolonged periods of time.\n",
    "\n",
    "### It is also very useful in cases where automation is profitable by reducing human effort and eliminating human error. Some of the common features that AI programs are designed to have are:\n",
    "> - Problem-solving\n",
    "> - Natural language processing\n",
    "> - Planning\n",
    "> - Learning"
   ]
  },
  {
   "cell_type": "markdown",
   "metadata": {},
   "source": [
    "### The field of AI research saw significant growth in the first decade of the 21st century due to successful implementations of machine learning techniques and improvement in available hardware. Today, AI has found applications in many different fields and also in households."
   ]
  },
  {
   "cell_type": "markdown",
   "metadata": {},
   "source": [
    "---\n",
    "<h1 style=\"color:red\">Types of AI</h1>"
   ]
  },
  {
   "cell_type": "markdown",
   "metadata": {},
   "source": [
    "<img src=\"images/AItypes.png\">"
   ]
  },
  {
   "cell_type": "code",
   "execution_count": null,
   "metadata": {},
   "outputs": [],
   "source": []
  },
  {
   "cell_type": "markdown",
   "metadata": {},
   "source": [
    "<img src=\"images/AItypes1.jpg\">"
   ]
  },
  {
   "cell_type": "markdown",
   "metadata": {},
   "source": [
    "### AI can be classified in many ways. However, there are two most popular ways of classification based on their capabilities and functionality."
   ]
  },
  {
   "cell_type": "markdown",
   "metadata": {},
   "source": [
    "---\n",
    "<h2 style=\"color:green\">1. Type-1 AI (Classification based on ability)</h2>\n",
    "\n",
    "### There are three types of AI in the Type-1 classification:\n",
    "\n",
    "## 1.1. Narrow AI\n",
    "### Narrow AI is also called weak AI. This type of AI can only work in predefined situations. They can only perform certain pre-programmed tasks.\n",
    "\n",
    "## 1.2. General AI\n",
    "### General AI can perform any task with efficiency equal to that of a human.\n",
    "\n",
    "## 1.3. Super AI\n",
    "### Super AI is a hypothetical concept in AI research. It is an AI that can perform any task better than humans with greater efficiency without any human error."
   ]
  },
  {
   "cell_type": "code",
   "execution_count": null,
   "metadata": {},
   "outputs": [],
   "source": []
  },
  {
   "cell_type": "markdown",
   "metadata": {},
   "source": [
    "---\n",
    "<h2 style=\"color:green\">2. Type-2 AI (Classification based on functionality)</h2>\n",
    "\n",
    "### There are four types of AI in Type-2 classification:\n",
    "\n",
    "## 2.1. Reactive Machines\n",
    "### Reactive machines are the most basic type of artificial intelligence. This type of AI looks at the world around it and responds based on its observation. They do not form memory nor do they learn from past experiences.\n",
    "\n",
    "### IBM’s chess-playing supercomputer, Deep Blue is a good example of a reactive machine.\n",
    "\n",
    "## 2.2. Limited Memory\n",
    "### Limited memory AI is similar to reactive machines except they have a small memory that they can use to make observations over a period of time to judge the situation and give a response based on that.\n",
    "\n",
    "### An example of limited memory AI would be self-driving cars. Self-driving cars need at least short term memory to react properly to road signs and to observe the speeds and paths of other vehicles around them.\n",
    "\n",
    "## 2.3. Theory of Mind\n",
    "### This type of AI does not exist yet. It perceives the world around them and other agents inside it as well. They understand how other objects and entities will react to their actions and act accordingly.\n",
    "\n",
    "## 2.4. Self-Awareness\n",
    "### Self-aware AI is an AI with an idea of self. This type of AI has consciousness and sentiments as well. Currently, this type of AI is purely hypothetical."
   ]
  },
  {
   "cell_type": "code",
   "execution_count": null,
   "metadata": {},
   "outputs": [],
   "source": []
  },
  {
   "cell_type": "markdown",
   "metadata": {},
   "source": [
    "---\n",
    "<h1 style=\"color:red\">Examples of Artificial Intelligence</h1>"
   ]
  },
  {
   "cell_type": "markdown",
   "metadata": {},
   "source": [
    "---\n",
    "<img src=\"images/exmplAI.jpg\">"
   ]
  },
  {
   "cell_type": "markdown",
   "metadata": {},
   "source": [
    "### AI is all around us today. They are apart of any netizen’s everyday life. Some common examples of AI are:\n",
    "\n",
    "## 1. Virtual Assistants\n",
    "### Virtual assistants like Alexa, Siri, and Google Assistant are the most commonly used AI. More than 90% of smartphone users use the virtual assistants provided in their devices.\n",
    "\n",
    "## 2. Suggestions and Recommendations at E-commerce Websites\n",
    "### The suggestion and recommendations given by the e-commerce website are done by AI that checks a customer’s order history and searches to determine the best products to recommend.\n",
    "\n",
    "## 3. Cogito\n",
    "### Cogito is a speech recognition software that tries to identify the emotions behind said words by noticing the tone, volume, and stress on the words. It has been very useful for customer service calls and on-call assistance.\n",
    "\n",
    "## 4. Spam Filters\n",
    "### Spam filters in email and messaging services and apps check incoming messages and emails for certain identifiers. They also learn based on your decisions to move a message to or from spam.\n",
    "\n",
    "## 5. Loan and Credit Card Processing\n",
    "### The credit score given to a customer is calculated by an AI, based on certain pre-defined characteristics. The banks then approve or reject loan and credit card applications based on this."
   ]
  },
  {
   "cell_type": "markdown",
   "metadata": {},
   "source": [
    "---\n",
    "### we know that **Artificial Intelligence** is the simulation of human behaviour by a machine/computer. In the 21st century, AI has reached almost every house, like Alexa, Siri, product recommendations to name a few.\n",
    "\n",
    "### According to a study by Creative Strategies, only 2% of iPhone owners have never used Siri, and only 4% of Android owners have never leveraged the power of OK Google. When it comes to usage, 51% use voice assistants in the car, 6% in public, and 1.3% at work."
   ]
  },
  {
   "cell_type": "markdown",
   "metadata": {},
   "source": [
    "---\n",
    "<h1 style=\"color:red\">Example of Machine Learning application in Artificial Intelligence</h1>"
   ]
  },
  {
   "cell_type": "markdown",
   "metadata": {},
   "source": [
    "### There is no denying that Cortana, a virtual assistant developed by Microsoft for Windows 10, is the result of progress in AI. It functions exactly like Siri or the Google Assistant. Cortana helps you find information on everything when requested using voice- even questions like What will the weather be like tomorrow? Or it even does any calculations for you. It also performs particular functions or commands other applications to perform an activity (setting an alarm, placing calls).\n",
    "\n",
    "### AI is an integral part of this assistant, as it gathers data on the basis of user interaction and then provides customized results.\n",
    "\n",
    "### But there’s more to Cortana than just answering questions. Microsoft claims that with each interaction, Cortana constantly keeps learning about its users, and tries to anticipate the requirements of the users. Which means that it constantly uses machine learning to intelligently operate to cater to the user’s needs."
   ]
  },
  {
   "cell_type": "markdown",
   "metadata": {},
   "source": [
    "---\n",
    "<h1 style=\"color:red\">Difference between AI and Machine Learning</h1>"
   ]
  },
  {
   "cell_type": "markdown",
   "metadata": {},
   "source": [
    "---\n",
    "<img src=\"images/ml Al.png\">"
   ]
  },
  {
   "cell_type": "markdown",
   "metadata": {},
   "source": [
    "---\n",
    "<img src=\"images/ml ai.jpeg\">"
   ]
  },
  {
   "cell_type": "markdown",
   "metadata": {},
   "source": [
    "### AI and ML sound so different, but in reality, it can cause confusion. Machine Learning is an application of AI which implies that with sufficient progress, machines can learn and enhance with each user interaction. Artificial Intelligence is a more extensive concept involving the ability of machines to carry out a variety of tasks."
   ]
  },
  {
   "cell_type": "markdown",
   "metadata": {},
   "source": [
    "---\n",
    "<h1 style=\"color:red\">Summary</h1>"
   ]
  },
  {
   "cell_type": "markdown",
   "metadata": {},
   "source": [
    "### I believe it is clear now that Artificial Intelligence is like an umbrella that houses Machine Learning, along with other concepts. AI is more like a study aimed at training computers to simplify and automate tasks, whereas ML induces a machine to learn on its own."
   ]
  }
 ],
 "metadata": {
  "kernelspec": {
   "display_name": "Python 3",
   "language": "python",
   "name": "python3"
  },
  "language_info": {
   "codemirror_mode": {
    "name": "ipython",
    "version": 3
   },
   "file_extension": ".py",
   "mimetype": "text/x-python",
   "name": "python",
   "nbconvert_exporter": "python",
   "pygments_lexer": "ipython3",
   "version": "3.6.8"
  }
 },
 "nbformat": 4,
 "nbformat_minor": 4
}
